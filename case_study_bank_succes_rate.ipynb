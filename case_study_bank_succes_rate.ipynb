{
 "cells": [
  {
   "cell_type": "code",
   "execution_count": 2,
   "id": "d37ff609",
   "metadata": {},
   "outputs": [],
   "source": [
    "import pyodbc\n",
    "import pandas as pd\n",
    "import matplotlib.pyplot as plt\n",
    "import seaborn as sns"
   ]
  },
  {
   "cell_type": "code",
   "execution_count": 3,
   "id": "6598046f",
   "metadata": {},
   "outputs": [],
   "source": [
    "cnxn_str = (\"Driver={SQL Server Native Client 11.0};\"\n",
    "            \"Server=**CENSORED_HERE**;\"\n",
    "            \"Database=enuygun;\"\n",
    "            \"Trusted_Connection=yes;\")\n",
    "cnxn = pyodbc.connect(cnxn_str)"
   ]
  },
  {
   "cell_type": "code",
   "execution_count": 4,
   "id": "fa4161f7",
   "metadata": {},
   "outputs": [],
   "source": [
    "cursor = cnxn.cursor()\n"
   ]
  },
  {
   "cell_type": "code",
   "execution_count": 5,
   "id": "02059051",
   "metadata": {},
   "outputs": [],
   "source": [
    "df_total = pd.read_sql(\"SELECT (CASE WHEN status_id = 0 then 'FAIL' WHEN status_id = 1 then 'SUCCESSFUL' else 'RETURN' end) as STATUS_,status_id,count(amount) TOTAL_SALES,sum(amount) TOTAL_AMOUNT FROM payment GROUP BY status_id\",cnxn)"
   ]
  },
  {
   "cell_type": "code",
   "execution_count": 6,
   "id": "85ad99df",
   "metadata": {},
   "outputs": [],
   "source": [
    "df_total['RATE'] = df_total['TOTAL_SALES']*100/df_total['TOTAL_SALES'].sum()"
   ]
  },
  {
   "cell_type": "code",
   "execution_count": 7,
   "id": "f56452f7",
   "metadata": {},
   "outputs": [
    {
     "data": {
      "text/html": [
       "<div>\n",
       "<style scoped>\n",
       "    .dataframe tbody tr th:only-of-type {\n",
       "        vertical-align: middle;\n",
       "    }\n",
       "\n",
       "    .dataframe tbody tr th {\n",
       "        vertical-align: top;\n",
       "    }\n",
       "\n",
       "    .dataframe thead th {\n",
       "        text-align: right;\n",
       "    }\n",
       "</style>\n",
       "<table border=\"1\" class=\"dataframe\">\n",
       "  <thead>\n",
       "    <tr style=\"text-align: right;\">\n",
       "      <th></th>\n",
       "      <th>STATUS_</th>\n",
       "      <th>status_id</th>\n",
       "      <th>TOTAL_SALES</th>\n",
       "      <th>TOTAL_AMOUNT</th>\n",
       "      <th>RATE</th>\n",
       "    </tr>\n",
       "  </thead>\n",
       "  <tbody>\n",
       "    <tr>\n",
       "      <th>0</th>\n",
       "      <td>FAIL</td>\n",
       "      <td>0</td>\n",
       "      <td>45849</td>\n",
       "      <td>8318385</td>\n",
       "      <td>25.383248</td>\n",
       "    </tr>\n",
       "    <tr>\n",
       "      <th>1</th>\n",
       "      <td>SUCCESSFUL</td>\n",
       "      <td>1</td>\n",
       "      <td>119604</td>\n",
       "      <td>19670109</td>\n",
       "      <td>66.216014</td>\n",
       "    </tr>\n",
       "    <tr>\n",
       "      <th>2</th>\n",
       "      <td>RETURN</td>\n",
       "      <td>2</td>\n",
       "      <td>15174</td>\n",
       "      <td>2538336</td>\n",
       "      <td>8.400737</td>\n",
       "    </tr>\n",
       "  </tbody>\n",
       "</table>\n",
       "</div>"
      ],
      "text/plain": [
       "      STATUS_  status_id  TOTAL_SALES  TOTAL_AMOUNT       RATE\n",
       "0        FAIL          0        45849       8318385  25.383248\n",
       "1  SUCCESSFUL          1       119604      19670109  66.216014\n",
       "2      RETURN          2        15174       2538336   8.400737"
      ]
     },
     "execution_count": 7,
     "metadata": {},
     "output_type": "execute_result"
    }
   ],
   "source": [
    "df_total"
   ]
  },
  {
   "cell_type": "code",
   "execution_count": 8,
   "id": "f34d56e8",
   "metadata": {},
   "outputs": [
    {
     "data": {
      "image/png": "[encoded data removed]",
      "text/plain": [
       "<Figure size 576x432 with 1 Axes>"
      ]
     },
     "metadata": {},
     "output_type": "display_data"
    }
   ],
   "source": [
    "plt.rcParams.update({'font.size': 12})\n",
    "plt.figure(figsize=(8, 6))\n",
    "plt.title('TOTAL SUCCESS RATE')\n",
    "colors = sns.color_palette('pastel')[0:5]\n",
    "plt.pie(df_total['RATE'], labels = df_total['STATUS_'], colors = colors, autopct='%.0f%%')\n",
    "plt.show()"
   ]
  },
  {
   "cell_type": "code",
   "execution_count": 9,
   "id": "e2784ad9",
   "metadata": {},
   "outputs": [],
   "source": [
    "df_card_type = pd.read_sql(\"SELECT B.card_type,card_id,(CASE WHEN status_id = 0 then 'FAIL' WHEN status_id = 1 then 'SUCCESSFUL' else 'RETURN' end) as STATUS_,status_id,count(amount) TOTAL_SALES,sum(amount) TOTAL_AMOUNT FROM payment A LEFT JOIN card_types B ON A.card_id = B.id GROUP BY card_id,status_id,B.card_type\",cnxn)"
   ]
  },
  {
   "cell_type": "code",
   "execution_count": 10,
   "id": "9db09fef",
   "metadata": {},
   "outputs": [],
   "source": [
    "df_1 = df_card_type.groupby(['card_type','STATUS_']).agg({'TOTAL_SALES': 'sum'},as_index=False)\n",
    "df_1 = df_1.groupby(level=0).apply(lambda x: 100 * x / float(x.sum())).reset_index()"
   ]
  },
  {
   "cell_type": "code",
   "execution_count": 11,
   "id": "aa8437cf",
   "metadata": {},
   "outputs": [
    {
     "data": {
      "text/html": [
       "<div>\n",
       "<style scoped>\n",
       "    .dataframe tbody tr th:only-of-type {\n",
       "        vertical-align: middle;\n",
       "    }\n",
       "\n",
       "    .dataframe tbody tr th {\n",
       "        vertical-align: top;\n",
       "    }\n",
       "\n",
       "    .dataframe thead th {\n",
       "        text-align: right;\n",
       "    }\n",
       "</style>\n",
       "<table border=\"1\" class=\"dataframe\">\n",
       "  <thead>\n",
       "    <tr style=\"text-align: right;\">\n",
       "      <th></th>\n",
       "      <th>card_type</th>\n",
       "      <th>STATUS_</th>\n",
       "      <th>TOTAL_SALES</th>\n",
       "    </tr>\n",
       "  </thead>\n",
       "  <tbody>\n",
       "    <tr>\n",
       "      <th>0</th>\n",
       "      <td>KrediKartı</td>\n",
       "      <td>FAIL</td>\n",
       "      <td>25.185127</td>\n",
       "    </tr>\n",
       "    <tr>\n",
       "      <th>1</th>\n",
       "      <td>KrediKartı</td>\n",
       "      <td>RETURN</td>\n",
       "      <td>8.276263</td>\n",
       "    </tr>\n",
       "    <tr>\n",
       "      <th>2</th>\n",
       "      <td>KrediKartı</td>\n",
       "      <td>SUCCESSFUL</td>\n",
       "      <td>66.538610</td>\n",
       "    </tr>\n",
       "    <tr>\n",
       "      <th>3</th>\n",
       "      <td>SaklıKart</td>\n",
       "      <td>FAIL</td>\n",
       "      <td>27.518748</td>\n",
       "    </tr>\n",
       "    <tr>\n",
       "      <th>4</th>\n",
       "      <td>SaklıKart</td>\n",
       "      <td>RETURN</td>\n",
       "      <td>9.742419</td>\n",
       "    </tr>\n",
       "    <tr>\n",
       "      <th>5</th>\n",
       "      <td>SaklıKart</td>\n",
       "      <td>SUCCESSFUL</td>\n",
       "      <td>62.738833</td>\n",
       "    </tr>\n",
       "  </tbody>\n",
       "</table>\n",
       "</div>"
      ],
      "text/plain": [
       "    card_type     STATUS_  TOTAL_SALES\n",
       "0  KrediKartı        FAIL    25.185127\n",
       "1  KrediKartı      RETURN     8.276263\n",
       "2  KrediKartı  SUCCESSFUL    66.538610\n",
       "3   SaklıKart        FAIL    27.518748\n",
       "4   SaklıKart      RETURN     9.742419\n",
       "5   SaklıKart  SUCCESSFUL    62.738833"
      ]
     },
     "execution_count": 11,
     "metadata": {},
     "output_type": "execute_result"
    }
   ],
   "source": [
    "df_1"
   ]
  },
  {
   "cell_type": "code",
   "execution_count": 12,
   "id": "16470894",
   "metadata": {},
   "outputs": [
    {
     "data": {
      "image/png": "[encoded data removed]",
      "text/plain": [
       "<Figure size 576x432 with 1 Axes>"
      ]
     },
     "metadata": {
      "needs_background": "light"
     },
     "output_type": "display_data"
    }
   ],
   "source": [
    "plt.figure(figsize=(8, 6))\n",
    "sns.set_theme(style=\"whitegrid\")\n",
    "plt.title('CARD TYPE SUCCESS RATE')\n",
    "xlocs, xlabs = plt.xticks()\n",
    "colors = sns.color_palette('pastel')[0:5]\n",
    "sns.barplot(x='card_type',y='TOTAL_SALES',hue='STATUS_',data=df_1)\n",
    "plt.show()"
   ]
  },
  {
   "cell_type": "code",
   "execution_count": 13,
   "id": "0c471441",
   "metadata": {},
   "outputs": [],
   "source": [
    "df_environment = pd.read_sql(\"SELECT C.environment,(CASE WHEN status_id = 0 then 'FAIL' WHEN status_id = 1 then 'SUCCESSFUL' else 'RETURN' end) as STATUS_,status_id,count(amount) TOTAL_SALES,sum(amount) TOTAL_AMOUNT FROM payment A LEFT JOIN (select id,environment_id from booking_) B ON A.bookingID = B.id LEFT JOIN environment C ON B.environment_id = C.id GROUP BY environment_id,status_id,C.environment\",cnxn)\n",
    "df_2 = df_environment.groupby(['environment','STATUS_']).agg({'TOTAL_SALES': 'sum'})\n",
    "df_2 = df_2.groupby(level=0).apply(lambda x: 100 * x / float(x.sum())).reset_index()"
   ]
  },
  {
   "cell_type": "code",
   "execution_count": 14,
   "id": "a4080c12",
   "metadata": {},
   "outputs": [
    {
     "data": {
      "text/html": [
       "<div>\n",
       "<style scoped>\n",
       "    .dataframe tbody tr th:only-of-type {\n",
       "        vertical-align: middle;\n",
       "    }\n",
       "\n",
       "    .dataframe tbody tr th {\n",
       "        vertical-align: top;\n",
       "    }\n",
       "\n",
       "    .dataframe thead th {\n",
       "        text-align: right;\n",
       "    }\n",
       "</style>\n",
       "<table border=\"1\" class=\"dataframe\">\n",
       "  <thead>\n",
       "    <tr style=\"text-align: right;\">\n",
       "      <th></th>\n",
       "      <th>environment</th>\n",
       "      <th>STATUS_</th>\n",
       "      <th>TOTAL_SALES</th>\n",
       "    </tr>\n",
       "  </thead>\n",
       "  <tbody>\n",
       "    <tr>\n",
       "      <th>0</th>\n",
       "      <td>app</td>\n",
       "      <td>FAIL</td>\n",
       "      <td>28.139269</td>\n",
       "    </tr>\n",
       "    <tr>\n",
       "      <th>1</th>\n",
       "      <td>app</td>\n",
       "      <td>RETURN</td>\n",
       "      <td>8.587588</td>\n",
       "    </tr>\n",
       "    <tr>\n",
       "      <th>2</th>\n",
       "      <td>app</td>\n",
       "      <td>SUCCESSFUL</td>\n",
       "      <td>63.273142</td>\n",
       "    </tr>\n",
       "    <tr>\n",
       "      <th>3</th>\n",
       "      <td>web</td>\n",
       "      <td>FAIL</td>\n",
       "      <td>22.231716</td>\n",
       "    </tr>\n",
       "    <tr>\n",
       "      <th>4</th>\n",
       "      <td>web</td>\n",
       "      <td>RETURN</td>\n",
       "      <td>8.187072</td>\n",
       "    </tr>\n",
       "    <tr>\n",
       "      <th>5</th>\n",
       "      <td>web</td>\n",
       "      <td>SUCCESSFUL</td>\n",
       "      <td>69.581212</td>\n",
       "    </tr>\n",
       "  </tbody>\n",
       "</table>\n",
       "</div>"
      ],
      "text/plain": [
       "  environment     STATUS_  TOTAL_SALES\n",
       "0         app        FAIL    28.139269\n",
       "1         app      RETURN     8.587588\n",
       "2         app  SUCCESSFUL    63.273142\n",
       "3         web        FAIL    22.231716\n",
       "4         web      RETURN     8.187072\n",
       "5         web  SUCCESSFUL    69.581212"
      ]
     },
     "execution_count": 14,
     "metadata": {},
     "output_type": "execute_result"
    }
   ],
   "source": [
    "df_2"
   ]
  },
  {
   "cell_type": "code",
   "execution_count": 15,
   "id": "4fccd075",
   "metadata": {},
   "outputs": [
    {
     "data": {
      "image/png": "[encoded data removed]",
      "text/plain": [
       "<Figure size 576x432 with 1 Axes>"
      ]
     },
     "metadata": {},
     "output_type": "display_data"
    }
   ],
   "source": [
    "plt.figure(figsize=(8, 6))\n",
    "sns.set_theme(style=\"whitegrid\")\n",
    "plt.title('ENVIRONMENT SUCCESS RATE')\n",
    "xlocs, xlabs = plt.xticks()\n",
    "colors = sns.color_palette('pastel')[0:5]\n",
    "sns.barplot(x='environment',y='TOTAL_SALES',hue='STATUS_',data=df_2)\n",
    "plt.show()"
   ]
  },
  {
   "cell_type": "code",
   "execution_count": 16,
   "id": "c3ed2d05",
   "metadata": {},
   "outputs": [
    {
     "data": {
      "text/html": [
       "<div>\n",
       "<style scoped>\n",
       "    .dataframe tbody tr th:only-of-type {\n",
       "        vertical-align: middle;\n",
       "    }\n",
       "\n",
       "    .dataframe tbody tr th {\n",
       "        vertical-align: top;\n",
       "    }\n",
       "\n",
       "    .dataframe thead th {\n",
       "        text-align: right;\n",
       "    }\n",
       "</style>\n",
       "<table border=\"1\" class=\"dataframe\">\n",
       "  <thead>\n",
       "    <tr style=\"text-align: right;\">\n",
       "      <th></th>\n",
       "      <th>company</th>\n",
       "      <th>STATUS_</th>\n",
       "      <th>TOTAL_SALES</th>\n",
       "    </tr>\n",
       "  </thead>\n",
       "  <tbody>\n",
       "    <tr>\n",
       "      <th>0</th>\n",
       "      <td>AA</td>\n",
       "      <td>FAIL</td>\n",
       "      <td>34.503765</td>\n",
       "    </tr>\n",
       "    <tr>\n",
       "      <th>1</th>\n",
       "      <td>AA</td>\n",
       "      <td>RETURN</td>\n",
       "      <td>0.003422</td>\n",
       "    </tr>\n",
       "    <tr>\n",
       "      <th>2</th>\n",
       "      <td>AA</td>\n",
       "      <td>SUCCESSFUL</td>\n",
       "      <td>65.492813</td>\n",
       "    </tr>\n",
       "    <tr>\n",
       "      <th>3</th>\n",
       "      <td>BB</td>\n",
       "      <td>FAIL</td>\n",
       "      <td>23.861699</td>\n",
       "    </tr>\n",
       "    <tr>\n",
       "      <th>4</th>\n",
       "      <td>BB</td>\n",
       "      <td>RETURN</td>\n",
       "      <td>10.638281</td>\n",
       "    </tr>\n",
       "    <tr>\n",
       "      <th>5</th>\n",
       "      <td>BB</td>\n",
       "      <td>SUCCESSFUL</td>\n",
       "      <td>65.500020</td>\n",
       "    </tr>\n",
       "    <tr>\n",
       "      <th>6</th>\n",
       "      <td>CC</td>\n",
       "      <td>FAIL</td>\n",
       "      <td>21.447986</td>\n",
       "    </tr>\n",
       "    <tr>\n",
       "      <th>7</th>\n",
       "      <td>CC</td>\n",
       "      <td>RETURN</td>\n",
       "      <td>6.340499</td>\n",
       "    </tr>\n",
       "    <tr>\n",
       "      <th>8</th>\n",
       "      <td>CC</td>\n",
       "      <td>SUCCESSFUL</td>\n",
       "      <td>72.211515</td>\n",
       "    </tr>\n",
       "    <tr>\n",
       "      <th>9</th>\n",
       "      <td>DD</td>\n",
       "      <td>FAIL</td>\n",
       "      <td>22.797651</td>\n",
       "    </tr>\n",
       "    <tr>\n",
       "      <th>10</th>\n",
       "      <td>DD</td>\n",
       "      <td>RETURN</td>\n",
       "      <td>6.673785</td>\n",
       "    </tr>\n",
       "    <tr>\n",
       "      <th>11</th>\n",
       "      <td>DD</td>\n",
       "      <td>SUCCESSFUL</td>\n",
       "      <td>70.528564</td>\n",
       "    </tr>\n",
       "    <tr>\n",
       "      <th>12</th>\n",
       "      <td>EE</td>\n",
       "      <td>FAIL</td>\n",
       "      <td>27.239320</td>\n",
       "    </tr>\n",
       "    <tr>\n",
       "      <th>13</th>\n",
       "      <td>EE</td>\n",
       "      <td>RETURN</td>\n",
       "      <td>10.863574</td>\n",
       "    </tr>\n",
       "    <tr>\n",
       "      <th>14</th>\n",
       "      <td>EE</td>\n",
       "      <td>SUCCESSFUL</td>\n",
       "      <td>61.897106</td>\n",
       "    </tr>\n",
       "  </tbody>\n",
       "</table>\n",
       "</div>"
      ],
      "text/plain": [
       "   company     STATUS_  TOTAL_SALES\n",
       "0       AA        FAIL    34.503765\n",
       "1       AA      RETURN     0.003422\n",
       "2       AA  SUCCESSFUL    65.492813\n",
       "3       BB        FAIL    23.861699\n",
       "4       BB      RETURN    10.638281\n",
       "5       BB  SUCCESSFUL    65.500020\n",
       "6       CC        FAIL    21.447986\n",
       "7       CC      RETURN     6.340499\n",
       "8       CC  SUCCESSFUL    72.211515\n",
       "9       DD        FAIL    22.797651\n",
       "10      DD      RETURN     6.673785\n",
       "11      DD  SUCCESSFUL    70.528564\n",
       "12      EE        FAIL    27.239320\n",
       "13      EE      RETURN    10.863574\n",
       "14      EE  SUCCESSFUL    61.897106"
      ]
     },
     "execution_count": 16,
     "metadata": {},
     "output_type": "execute_result"
    }
   ],
   "source": [
    "df_company = pd.read_sql(\"SELECT B.company,(CASE WHEN status_id = 0 then 'FAIL' WHEN status_id = 1 then 'SUCCESSFUL' else 'RETURN' end) as STATUS_,status_id,count(amount) TOTAL_SALES,sum(amount) TOTAL_AMOUNT FROM payment A LEFT JOIN (select id,company from booking_) B ON A.bookingID = B.id GROUP BY B.company,status_id\",cnxn)\n",
    "df_company = df_company.groupby(['company','STATUS_']).agg({'TOTAL_SALES': 'sum'})\n",
    "df_3 = df_company.groupby(level=0).apply(lambda x: 100 * x / float(x.sum())).reset_index()\n",
    "df_3"
   ]
  },
  {
   "cell_type": "code",
   "execution_count": 17,
   "id": "d38d0987",
   "metadata": {},
   "outputs": [
    {
     "data": {
      "image/png": "[encoded data removed]",
      "text/plain": [
       "<Figure size 576x432 with 1 Axes>"
      ]
     },
     "metadata": {},
     "output_type": "display_data"
    }
   ],
   "source": [
    "plt.figure(figsize=(8, 6))\n",
    "sns.set_theme(style=\"whitegrid\")\n",
    "plt.title('COMPANY SUCCESS RATE')\n",
    "colors = sns.color_palette('pastel')[0:5]\n",
    "sns.barplot(x='company',y='TOTAL_SALES',hue='STATUS_',data=df_3)\n",
    "plt.legend(bbox_to_anchor =(1.27, 1.02))\n",
    "plt.show()"
   ]
  },
  {
   "cell_type": "code",
   "execution_count": null,
   "id": "d67553cc",
   "metadata": {},
   "outputs": [],
   "source": []
  }
 ],
 "metadata": {
  "kernelspec": {
   "display_name": "Python 3 (ipykernel)",
   "language": "python",
   "name": "python3"
  },
  "language_info": {
   "codemirror_mode": {
    "name": "ipython",
    "version": 3
   },
   "file_extension": ".py",
   "mimetype": "text/x-python",
   "name": "python",
   "nbconvert_exporter": "python",
   "pygments_lexer": "ipython3",
   "version": "3.9.7"
  }
 },
 "nbformat": 4,
 "nbformat_minor": 5
}
